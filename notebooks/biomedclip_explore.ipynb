{
 "cells": [
  {
   "cell_type": "code",
   "execution_count": 1,
   "metadata": {},
   "outputs": [
    {
     "name": "stderr",
     "output_type": "stream",
     "text": [
      "/home/sn666/.conda/envs/labo/lib/python3.9/site-packages/tqdm/auto.py:21: TqdmWarning: IProgress not found. Please update jupyter and ipywidgets. See https://ipywidgets.readthedocs.io/en/stable/user_install.html\n",
      "  from .autonotebook import tqdm as notebook_tqdm\n",
      "/home/sn666/.conda/envs/labo/lib/python3.9/site-packages/huggingface_hub/file_download.py:797: FutureWarning: `resume_download` is deprecated and will be removed in version 1.0.0. Downloads always resume when possible. If you want to force a new download, use `force_download=True`.\n",
      "  warnings.warn(\n"
     ]
    }
   ],
   "source": [
    "from open_clip import create_model_from_pretrained, get_tokenizer # works on open-clip-torch>=2.23.0, timm>=0.9.8\n",
    "\n",
    "model, preprocess = create_model_from_pretrained('hf-hub:microsoft/BiomedCLIP-PubMedBERT_256-vit_base_patch16_224')\n",
    "tokenizer = get_tokenizer('hf-hub:microsoft/BiomedCLIP-PubMedBERT_256-vit_base_patch16_224')"
   ]
  },
  {
   "cell_type": "code",
   "execution_count": null,
   "metadata": {},
   "outputs": [
    {
     "name": "stdout",
     "output_type": "stream",
     "text": [
      "torch.Size([9, 512])\n",
      "Shape of image features: torch.Size([9, 512])\n",
      "squamous_cell_carcinoma_histopathology.jpeg:\n",
      "squamous cell carcinoma histopathology: 0.997437596321106\n",
      "adenocarcinoma histopathology: 0.001306830788962543\n",
      "hematoxylin and eosin histopathology: 0.0012188811087980866\n",
      "immunohistochemistry histopathology: 3.669962825370021e-05\n",
      "chest X-ray: 1.1548410665251918e-11\n",
      "brain MRI: 5.123110269344977e-12\n",
      "pie chart: 2.510576815883958e-12\n",
      "covid line chart: 8.306049533064741e-13\n",
      "bone X-ray: 2.356631498290091e-14\n",
      "\n",
      "\n",
      "H_and_E_histopathology.jpg:\n",
      "hematoxylin and eosin histopathology: 0.9871463775634766\n",
      "immunohistochemistry histopathology: 0.012638912536203861\n",
      "adenocarcinoma histopathology: 0.00014946787268854678\n",
      "squamous cell carcinoma histopathology: 5.230658280197531e-05\n",
      "brain MRI: 1.0339951586502139e-05\n",
      "chest X-ray: 1.7928430224856129e-06\n",
      "bone X-ray: 6.8211335246815e-07\n",
      "pie chart: 2.454528669204592e-07\n",
      "covid line chart: 4.0791800492989694e-11\n",
      "\n",
      "\n",
      "bone_X-ray.jpg:\n",
      "bone X-ray: 0.9994797110557556\n",
      "pie chart: 0.000448115955805406\n",
      "brain MRI: 4.285862814867869e-05\n",
      "chest X-ray: 2.3464444893761538e-05\n",
      "hematoxylin and eosin histopathology: 5.817080818815157e-06\n",
      "immunohistochemistry histopathology: 2.9226443487573306e-08\n",
      "adenocarcinoma histopathology: 5.05146324769612e-09\n",
      "squamous cell carcinoma histopathology: 1.2573618361766403e-11\n",
      "covid line chart: 1.2472105813399192e-11\n",
      "\n",
      "\n",
      "adenocarcinoma_histopathology.jpg:\n",
      "adenocarcinoma histopathology: 0.7320365309715271\n",
      "hematoxylin and eosin histopathology: 0.2663760483264923\n",
      "immunohistochemistry histopathology: 0.0014768213732168078\n",
      "squamous cell carcinoma histopathology: 0.00010966512490995228\n",
      "brain MRI: 5.751032858825056e-07\n",
      "chest X-ray: 3.1898579777589475e-07\n",
      "pie chart: 2.9391097555730994e-08\n",
      "covid line chart: 6.052437662162902e-09\n",
      "bone X-ray: 9.548568602468777e-10\n",
      "\n",
      "\n",
      "covid_line_chart.png:\n",
      "covid line chart: 0.999931812286377\n",
      "immunohistochemistry histopathology: 4.728354906546883e-05\n",
      "hematoxylin and eosin histopathology: 6.06686762694153e-06\n",
      "brain MRI: 5.322844572219765e-06\n",
      "squamous cell carcinoma histopathology: 4.426989562489325e-06\n",
      "pie chart: 4.124331098864786e-06\n",
      "bone X-ray: 4.3934286964031344e-07\n",
      "chest X-ray: 4.366144992218324e-07\n",
      "adenocarcinoma histopathology: 2.9401396872685837e-08\n",
      "\n",
      "\n",
      "IHC_histopathology.jpg:\n",
      "immunohistochemistry histopathology: 0.9974374771118164\n",
      "hematoxylin and eosin histopathology: 0.001896172296255827\n",
      "brain MRI: 0.0006437486736103892\n",
      "adenocarcinoma histopathology: 1.2660305401368532e-05\n",
      "squamous cell carcinoma histopathology: 8.942569365899544e-06\n",
      "bone X-ray: 7.172338882810436e-07\n",
      "chest X-ray: 1.7720444134283753e-07\n",
      "pie chart: 2.437435853153147e-08\n",
      "covid line chart: 4.391941477166483e-09\n",
      "\n",
      "\n",
      "chest_X-ray.jpg:\n",
      "chest X-ray: 0.9999420642852783\n",
      "bone X-ray: 5.6804288760758936e-05\n",
      "hematoxylin and eosin histopathology: 8.013018373276282e-07\n",
      "brain MRI: 2.005110673053423e-07\n",
      "immunohistochemistry histopathology: 6.699058729964236e-08\n",
      "covid line chart: 4.973430023369474e-08\n",
      "adenocarcinoma histopathology: 4.076403925523664e-08\n",
      "pie chart: 7.264862600386834e-10\n",
      "squamous cell carcinoma histopathology: 1.983505720781764e-10\n",
      "\n",
      "\n",
      "brain_MRI.jpg:\n",
      "brain MRI: 0.9999922513961792\n",
      "hematoxylin and eosin histopathology: 5.9548447097768076e-06\n",
      "immunohistochemistry histopathology: 1.6732969925215002e-06\n",
      "pie chart: 1.0565249652927378e-07\n",
      "bone X-ray: 3.74521853530041e-08\n",
      "chest X-ray: 4.860130076167479e-09\n",
      "adenocarcinoma histopathology: 1.9390535843655243e-09\n",
      "squamous cell carcinoma histopathology: 2.3346966027126825e-10\n",
      "covid line chart: 3.6242476034176185e-12\n",
      "\n",
      "\n",
      "pie_chart.png:\n",
      "pie chart: 0.9999972581863403\n",
      "covid line chart: 2.5223641841876088e-06\n",
      "immunohistochemistry histopathology: 1.5278710918664729e-07\n",
      "hematoxylin and eosin histopathology: 2.9792960987151673e-08\n",
      "chest X-ray: 7.586970163231399e-09\n",
      "bone X-ray: 3.291607431066268e-09\n",
      "brain MRI: 2.035616120110717e-09\n",
      "adenocarcinoma histopathology: 1.0513728776473386e-09\n",
      "squamous cell carcinoma histopathology: 1.5599835312407606e-10\n",
      "\n",
      "\n"
     ]
    }
   ],
   "source": [
    "import torch\n",
    "from urllib.request import urlopen\n",
    "from PIL import Image\n",
    "\n",
    "template = \"this is a photo of \"\n",
    "labels = [\n",
    "    \"adenocarcinoma histopathology\",\n",
    "    \"brain MRI\",\n",
    "    \"covid line chart\",\n",
    "    \"squamous cell carcinoma histopathology\",\n",
    "    \"immunohistochemistry histopathology\",\n",
    "    \"bone X-ray\",\n",
    "    \"chest X-ray\",\n",
    "    \"pie chart\",\n",
    "    \"hematoxylin and eosin histopathology\",\n",
    "]\n",
    "\n",
    "dataset_url = \"https://huggingface.co/microsoft/BiomedCLIP-PubMedBERT_256-vit_base_patch16_224/resolve/main/example_data/biomed_image_classification_example_data/\"\n",
    "test_imgs = [\n",
    "    \"squamous_cell_carcinoma_histopathology.jpeg\",\n",
    "    \"H_and_E_histopathology.jpg\",\n",
    "    \"bone_X-ray.jpg\",\n",
    "    \"adenocarcinoma_histopathology.jpg\",\n",
    "    \"covid_line_chart.png\",\n",
    "    \"IHC_histopathology.jpg\",\n",
    "    \"chest_X-ray.jpg\",\n",
    "    \"brain_MRI.jpg\",\n",
    "    \"pie_chart.png\",\n",
    "]\n",
    "device = torch.device(\"cuda\") if torch.cuda.is_available() else torch.device(\"cpu\")\n",
    "model.to(device)\n",
    "model.eval()\n",
    "\n",
    "context_length = 256\n",
    "\n",
    "images = torch.stack(\n",
    "    [preprocess(Image.open(urlopen(dataset_url + img))) for img in test_imgs]\n",
    ").to(device)\n",
    "texts = tokenizer([template + l for l in labels], context_length=context_length).to(\n",
    "    device\n",
    ")\n",
    "with torch.no_grad():\n",
    "    print(model.encode_image(images).shape)\n",
    "    image_features, text_features, logit_scale = model(images, texts)\n",
    "    print(f\"Shape of image features: {image_features.shape}\")\n",
    "\n",
    "    logits = (logit_scale * image_features @ text_features.t()).detach().softmax(dim=-1)\n",
    "    sorted_indices = torch.argsort(logits, dim=-1, descending=True)\n",
    "\n",
    "    logits = logits.cpu().numpy()\n",
    "    sorted_indices = sorted_indices.cpu().numpy()\n",
    "\n",
    "top_k = -1\n",
    "\n",
    "for i, img in enumerate(test_imgs):\n",
    "    pred = labels[sorted_indices[i][0]]\n",
    "\n",
    "    top_k = len(labels) if top_k == -1 else top_k\n",
    "    print(img.split(\"/\")[-1] + \":\")\n",
    "    for j in range(top_k):\n",
    "        jth_index = sorted_indices[i][j]\n",
    "        print(f\"{labels[jth_index]}: {logits[i][jth_index]}\")\n",
    "    print(\"\\n\")"
   ]
  },
  {
   "cell_type": "code",
   "execution_count": 6,
   "metadata": {},
   "outputs": [
    {
     "name": "stdout",
     "output_type": "stream",
     "text": [
      "Found existing installation: transformers 4.24.0\n",
      "Uninstalling transformers-4.24.0:\n",
      "  Successfully uninstalled transformers-4.24.0\n"
     ]
    }
   ],
   "source": [
    "!pip uninstall transformers -y"
   ]
  },
  {
   "cell_type": "code",
   "execution_count": 3,
   "metadata": {},
   "outputs": [
    {
     "name": "stdout",
     "output_type": "stream",
     "text": [
      "Found existing installation: transformers 4.30.2\n",
      "Uninstalling transformers-4.30.2:\n",
      "  Successfully uninstalled transformers-4.30.2\n"
     ]
    }
   ],
   "source": [
    "!pip uninstall transformers -y"
   ]
  },
  {
   "cell_type": "code",
   "execution_count": 4,
   "metadata": {},
   "outputs": [
    {
     "name": "stdout",
     "output_type": "stream",
     "text": [
      "Collecting transformers==4.29.2\n",
      "  Using cached transformers-4.29.2-py3-none-any.whl.metadata (112 kB)\n",
      "Requirement already satisfied: filelock in /home/sn666/.conda/envs/labo/lib/python3.9/site-packages (from transformers==4.29.2) (3.17.0)\n",
      "Requirement already satisfied: huggingface-hub<1.0,>=0.14.1 in /home/sn666/.conda/envs/labo/lib/python3.9/site-packages (from transformers==4.29.2) (0.29.1)\n",
      "Requirement already satisfied: numpy>=1.17 in /home/sn666/.conda/envs/labo/lib/python3.9/site-packages (from transformers==4.29.2) (1.26.4)\n",
      "Requirement already satisfied: packaging>=20.0 in /home/sn666/.conda/envs/labo/lib/python3.9/site-packages (from transformers==4.29.2) (24.2)\n",
      "Requirement already satisfied: pyyaml>=5.1 in /home/sn666/.conda/envs/labo/lib/python3.9/site-packages (from transformers==4.29.2) (6.0.2)\n",
      "Requirement already satisfied: regex!=2019.12.17 in /home/sn666/.conda/envs/labo/lib/python3.9/site-packages (from transformers==4.29.2) (2024.11.6)\n",
      "Requirement already satisfied: requests in /home/sn666/.conda/envs/labo/lib/python3.9/site-packages (from transformers==4.29.2) (2.32.3)\n",
      "Requirement already satisfied: tokenizers!=0.11.3,<0.14,>=0.11.1 in /home/sn666/.conda/envs/labo/lib/python3.9/site-packages (from transformers==4.29.2) (0.13.3)\n",
      "Requirement already satisfied: tqdm>=4.27 in /home/sn666/.conda/envs/labo/lib/python3.9/site-packages (from transformers==4.29.2) (4.67.1)\n",
      "Requirement already satisfied: fsspec>=2023.5.0 in /home/sn666/.conda/envs/labo/lib/python3.9/site-packages (from huggingface-hub<1.0,>=0.14.1->transformers==4.29.2) (2023.6.0)\n",
      "Requirement already satisfied: typing-extensions>=3.7.4.3 in /home/sn666/.conda/envs/labo/lib/python3.9/site-packages (from huggingface-hub<1.0,>=0.14.1->transformers==4.29.2) (4.12.2)\n",
      "Requirement already satisfied: charset-normalizer<4,>=2 in /home/sn666/.conda/envs/labo/lib/python3.9/site-packages (from requests->transformers==4.29.2) (3.4.1)\n",
      "Requirement already satisfied: idna<4,>=2.5 in /home/sn666/.conda/envs/labo/lib/python3.9/site-packages (from requests->transformers==4.29.2) (3.10)\n",
      "Requirement already satisfied: urllib3<3,>=1.21.1 in /home/sn666/.conda/envs/labo/lib/python3.9/site-packages (from requests->transformers==4.29.2) (1.26.20)\n",
      "Requirement already satisfied: certifi>=2017.4.17 in /home/sn666/.conda/envs/labo/lib/python3.9/site-packages (from requests->transformers==4.29.2) (2025.1.31)\n",
      "Using cached transformers-4.29.2-py3-none-any.whl (7.1 MB)\n",
      "Installing collected packages: transformers\n",
      "\u001b[31mERROR: pip's dependency resolver does not currently take into account all the packages that are installed. This behaviour is the source of the following dependency conflicts.\n",
      "medclip 0.0.3 requires transformers<=4.24.0,>=4.23.1, but you have transformers 4.29.2 which is incompatible.\n",
      "hest 1.1.1 requires transformers>=4.40.2, but you have transformers 4.29.2 which is incompatible.\u001b[0m\u001b[31m\n",
      "\u001b[0mSuccessfully installed transformers-4.29.2\n"
     ]
    }
   ],
   "source": [
    "!pip install transformers==\"4.29.2\""
   ]
  },
  {
   "cell_type": "code",
   "execution_count": null,
   "metadata": {},
   "outputs": [],
   "source": []
  }
 ],
 "metadata": {
  "kernelspec": {
   "display_name": "Python 3",
   "language": "python",
   "name": "python3"
  },
  "language_info": {
   "codemirror_mode": {
    "name": "ipython",
    "version": 3
   },
   "file_extension": ".py",
   "mimetype": "text/x-python",
   "name": "python",
   "nbconvert_exporter": "python",
   "pygments_lexer": "ipython3",
   "version": "3.9.13"
  }
 },
 "nbformat": 4,
 "nbformat_minor": 2
}
