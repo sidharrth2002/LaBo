{
 "cells": [
  {
   "cell_type": "code",
   "execution_count": 15,
   "metadata": {},
   "outputs": [
    {
     "name": "stderr",
     "output_type": "stream",
     "text": [
      "Device set to use cuda:0\n",
      "Truncation was not explicitly activated but `max_length` is provided a specific value, please use `truncation=True` to explicitly truncate examples to max length. Defaulting to 'longest_first' truncation strategy. If you encode pairs of sequences (GLUE-style) with the tokenizer you can select this strategy more precisely by providing a specific strategy to `truncation`.\n"
     ]
    },
    {
     "data": {
      "text/plain": [
       "[{'generated_text': 'Common indications of Cardiomegaly in x-ray are cardiomegaly as a result of pulmonary edema or heart disease (pericardial effusion, pericardial effusion with cardiac tamponade, rupture of a membrane, etc).'},\n",
       " {'generated_text': 'Common indications of Cardiomegaly in x-ray are cardiac failure and arrhythmias.'},\n",
       " {'generated_text': 'Common indications of Cardiomegaly in x-ray are pulmonary disease or congenital heart disease; in other rare cases, cardiomegaly caused by cardiac disease can be revealed by x-ray.'},\n",
       " {'generated_text': 'Common indications of Cardiomegaly in x-ray are cardiomegaly, which increases heart size, ventricular mass and diastolic filling time, left ventricular hypertrophy, dilated or constrictive ventricular septum and left ventricular dilation.'},\n",
       " {'generated_text': 'Common indications of Cardiomegaly in x-ray are discussed.'},\n",
       " {'generated_text': \"Common indications of Cardiomegaly in x-ray are cardiomegaly, enlargement of the heart and a positive Saint-Jude's sign, the latter being the hallmark of left ventricle hypertrophy.\"},\n",
       " {'generated_text': 'Common indications of Cardiomegaly in x-ray are enlargement of the left auricle, enlargement of the right ventricle and enlargement of the right pulmonary artery.'},\n",
       " {'generated_text': 'Common indications of Cardiomegaly in x-ray are a mediastinal tumor or a tumor of the thorax, a pulmonary cyst or a benign lymph node, and cardiomegaly.'},\n",
       " {'generated_text': 'Common indications of Cardiomegaly in x-ray are discussed.'},\n",
       " {'generated_text': 'Common indications of Cardiomegaly in x-ray are due to the disease, the age and the health condition of the patient.'}]"
      ]
     },
     "execution_count": 15,
     "metadata": {},
     "output_type": "execute_result"
    }
   ],
   "source": [
    "from transformers import pipeline, set_seed\n",
    "from transformers import BioGptTokenizer, BioGptForCausalLM\n",
    "model = BioGptForCausalLM.from_pretrained(\"microsoft/biogpt\")\n",
    "tokenizer = BioGptTokenizer.from_pretrained(\"microsoft/biogpt\")\n",
    "generator = pipeline('text-generation', model=model, tokenizer=tokenizer)\n",
    "set_seed(42)\n",
    "generator(\"Common indications of Cardiomegaly in x-ray are\", max_length=50, num_return_sequences=10, do_sample=True)"
   ]
  },
  {
   "cell_type": "code",
   "execution_count": 2,
   "metadata": {},
   "outputs": [
    {
     "name": "stdout",
     "output_type": "stream",
     "text": [
      "Collecting sacremoses\n",
      "  Downloading sacremoses-0.1.1-py3-none-any.whl.metadata (8.3 kB)\n",
      "Requirement already satisfied: regex in /home/sn666/.conda/envs/labo/lib/python3.9/site-packages (from sacremoses) (2024.11.6)\n",
      "Requirement already satisfied: click in /home/sn666/.conda/envs/labo/lib/python3.9/site-packages (from sacremoses) (8.1.8)\n",
      "Requirement already satisfied: joblib in /home/sn666/.conda/envs/labo/lib/python3.9/site-packages (from sacremoses) (1.4.2)\n",
      "Requirement already satisfied: tqdm in /home/sn666/.conda/envs/labo/lib/python3.9/site-packages (from sacremoses) (4.67.1)\n",
      "Downloading sacremoses-0.1.1-py3-none-any.whl (897 kB)\n",
      "\u001b[2K   \u001b[90m━━━━━━━━━━━━━━━━━━━━━━━━━━━━━━━━━━━━━━━━\u001b[0m \u001b[32m897.5/897.5 kB\u001b[0m \u001b[31m38.4 MB/s\u001b[0m eta \u001b[36m0:00:00\u001b[0m\n",
      "\u001b[?25hInstalling collected packages: sacremoses\n",
      "Successfully installed sacremoses-0.1.1\n"
     ]
    }
   ],
   "source": [
    "!pip install sacremoses"
   ]
  },
  {
   "cell_type": "code",
   "execution_count": null,
   "metadata": {},
   "outputs": [],
   "source": []
  }
 ],
 "metadata": {
  "kernelspec": {
   "display_name": "Python 3",
   "language": "python",
   "name": "python3"
  },
  "language_info": {
   "codemirror_mode": {
    "name": "ipython",
    "version": 3
   },
   "file_extension": ".py",
   "mimetype": "text/x-python",
   "name": "python",
   "nbconvert_exporter": "python",
   "pygments_lexer": "ipython3",
   "version": "3.9.13"
  }
 },
 "nbformat": 4,
 "nbformat_minor": 2
}
