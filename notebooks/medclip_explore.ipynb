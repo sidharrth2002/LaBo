{
 "cells": [
  {
   "cell_type": "code",
   "execution_count": 1,
   "metadata": {},
   "outputs": [
    {
     "name": "stderr",
     "output_type": "stream",
     "text": [
      "/home/sn666/.conda/envs/labo/lib/python3.9/site-packages/tqdm/auto.py:21: TqdmWarning: IProgress not found. Please update jupyter and ipywidgets. See https://ipywidgets.readthedocs.io/en/stable/user_install.html\n",
      "  from .autonotebook import tqdm as notebook_tqdm\n"
     ]
    }
   ],
   "source": [
    "import medclip"
   ]
  },
  {
   "cell_type": "code",
   "execution_count": 2,
   "metadata": {},
   "outputs": [
    {
     "name": "stderr",
     "output_type": "stream",
     "text": [
      "/home/sn666/.conda/envs/labo/lib/python3.9/site-packages/huggingface_hub/file_download.py:797: FutureWarning: `resume_download` is deprecated and will be removed in version 1.0.0. Downloads always resume when possible. If you want to force a new download, use `force_download=True`.\n",
      "  warnings.warn(\n",
      "/home/sn666/.conda/envs/labo/lib/python3.9/site-packages/torch/functional.py:539: UserWarning: torch.meshgrid: in an upcoming release, it will be required to pass the indexing argument. (Triggered internally at /pytorch/aten/src/ATen/native/TensorShape.cpp:3637.)\n",
      "  return _VF.meshgrid(tensors, **kwargs)  # type: ignore[attr-defined]\n",
      "Some weights of the model checkpoint at microsoft/swin-tiny-patch4-window7-224 were not used when initializing SwinModel: ['classifier.weight', 'classifier.bias']\n",
      "- This IS expected if you are initializing SwinModel from the checkpoint of a model trained on another task or with another architecture (e.g. initializing a BertForSequenceClassification model from a BertForPreTraining model).\n",
      "- This IS NOT expected if you are initializing SwinModel from the checkpoint of a model that you expect to be exactly identical (initializing a BertForSequenceClassification model from a BertForSequenceClassification model).\n",
      "Some weights of the model checkpoint at emilyalsentzer/Bio_ClinicalBERT were not used when initializing BertModel: ['cls.predictions.bias', 'cls.predictions.transform.LayerNorm.weight', 'cls.seq_relationship.weight', 'cls.seq_relationship.bias', 'cls.predictions.transform.dense.weight', 'cls.predictions.transform.LayerNorm.bias', 'cls.predictions.decoder.weight', 'cls.predictions.transform.dense.bias']\n",
      "- This IS expected if you are initializing BertModel from the checkpoint of a model trained on another task or with another architecture (e.g. initializing a BertForSequenceClassification model from a BertForPreTraining model).\n",
      "- This IS NOT expected if you are initializing BertModel from the checkpoint of a model that you expect to be exactly identical (initializing a BertForSequenceClassification model from a BertForSequenceClassification model).\n"
     ]
    },
    {
     "name": "stdout",
     "output_type": "stream",
     "text": [
      "load model weight from: ./pretrained/medclip-vit\n"
     ]
    }
   ],
   "source": [
    "from medclip import MedCLIPModel, MedCLIPVisionModelViT, MedCLIPVisionModel\n",
    "\n",
    "# # load MedCLIP-ResNet50\n",
    "# model = MedCLIPModel(vision_cls=MedCLIPVisionModel)\n",
    "# model.from_pretrained()\n",
    "\n",
    "# load MedCLIP-ViT\n",
    "model = MedCLIPModel(vision_cls=MedCLIPVisionModelViT)\n",
    "model.from_pretrained()"
   ]
  },
  {
   "cell_type": "code",
   "execution_count": 13,
   "metadata": {},
   "outputs": [
    {
     "name": "stderr",
     "output_type": "stream",
     "text": [
      "/home/sn666/.conda/envs/labo/lib/python3.9/site-packages/huggingface_hub/file_download.py:797: FutureWarning: `resume_download` is deprecated and will be removed in version 1.0.0. Downloads always resume when possible. If you want to force a new download, use `force_download=True`.\n",
      "  warnings.warn(\n",
      "Some weights of the model checkpoint at microsoft/swin-tiny-patch4-window7-224 were not used when initializing SwinModel: ['classifier.weight', 'classifier.bias']\n",
      "- This IS expected if you are initializing SwinModel from the checkpoint of a model trained on another task or with another architecture (e.g. initializing a BertForSequenceClassification model from a BertForPreTraining model).\n",
      "- This IS NOT expected if you are initializing SwinModel from the checkpoint of a model that you expect to be exactly identical (initializing a BertForSequenceClassification model from a BertForSequenceClassification model).\n",
      "Some weights of the model checkpoint at emilyalsentzer/Bio_ClinicalBERT were not used when initializing BertModel: ['cls.predictions.bias', 'cls.predictions.transform.LayerNorm.weight', 'cls.seq_relationship.weight', 'cls.seq_relationship.bias', 'cls.predictions.transform.dense.weight', 'cls.predictions.transform.LayerNorm.bias', 'cls.predictions.decoder.weight', 'cls.predictions.transform.dense.bias']\n",
      "- This IS expected if you are initializing BertModel from the checkpoint of a model trained on another task or with another architecture (e.g. initializing a BertForSequenceClassification model from a BertForPreTraining model).\n",
      "- This IS NOT expected if you are initializing BertModel from the checkpoint of a model that you expect to be exactly identical (initializing a BertForSequenceClassification model from a BertForSequenceClassification model).\n"
     ]
    },
    {
     "name": "stdout",
     "output_type": "stream",
     "text": [
      "load model weight from: ./pretrained/medclip-vit\n",
      "dict_keys(['img_embeds', 'text_embeds', 'logits', 'loss_value', 'logits_per_text'])\n"
     ]
    }
   ],
   "source": [
    "from medclip import MedCLIPModel, MedCLIPVisionModelViT\n",
    "from medclip import MedCLIPProcessor\n",
    "from PIL import Image\n",
    "\n",
    "# prepare for the demo image and texts\n",
    "processor = MedCLIPProcessor()\n",
    "image = Image.open('./view1_frontal.jpg')\n",
    "inputs = processor(\n",
    "    text=[\"dsfd\"],\n",
    "          images=image, \n",
    "    return_tensors=\"pt\", \n",
    "    padding=True\n",
    "    )\n",
    "\n",
    "# pass to MedCLIP model\n",
    "model = MedCLIPModel(vision_cls=MedCLIPVisionModelViT)\n",
    "model.from_pretrained()\n",
    "model.cuda()\n",
    "outputs = model(**inputs)\n",
    "print(outputs.keys())\n",
    "# dict_keys(['img_embeds', 'text_embeds', 'logits', 'loss_value', 'logits_per_text'])"
   ]
  },
  {
   "cell_type": "code",
   "execution_count": 14,
   "metadata": {},
   "outputs": [
    {
     "data": {
      "text/plain": [
       "tensor([[-4.9336e-03,  4.2948e-03, -3.3312e-02, -5.3021e-02,  3.3264e-02,\n",
       "          5.3176e-02, -5.1343e-03, -1.8925e-03,  1.9265e-02, -1.3596e-01,\n",
       "          2.1900e-02,  2.2517e-02, -6.2676e-02, -4.0227e-02,  1.1003e-01,\n",
       "         -2.3462e-03, -3.5921e-02, -3.1247e-03,  3.8041e-02, -1.5207e-02,\n",
       "         -2.5204e-02,  2.8590e-02,  1.5878e-02,  4.2869e-02, -1.1833e-02,\n",
       "          5.0067e-02, -1.3757e-02,  1.2114e-01,  1.4732e-02,  2.0721e-02,\n",
       "         -1.1479e-02, -3.8820e-02, -2.1348e-03,  1.5757e-03, -1.1162e-01,\n",
       "          2.6719e-02,  3.9996e-03, -2.4945e-03,  1.7377e-02, -3.7300e-03,\n",
       "         -1.3222e-02, -2.8267e-02,  1.8467e-02,  1.3526e-02,  1.2538e-02,\n",
       "         -4.5990e-03,  2.4862e-02,  1.0123e-02,  4.8094e-03,  3.4806e-03,\n",
       "          3.9521e-02,  3.5040e-03, -1.4774e-02, -1.6369e-02, -1.2105e-01,\n",
       "         -2.6699e-02, -3.2907e-02,  3.5841e-02,  8.0360e-02,  9.2142e-02,\n",
       "          4.9211e-02,  1.3043e-02,  4.9522e-02,  3.6687e-03,  1.8584e-02,\n",
       "         -4.2308e-03,  4.7011e-02, -7.6194e-03, -8.4217e-03, -6.8859e-03,\n",
       "          1.9384e-02,  7.0196e-02,  3.5320e-03,  2.9344e-02, -4.4101e-02,\n",
       "          2.1892e-02,  2.4208e-03, -1.4585e-02,  1.2024e-01,  3.0041e-02,\n",
       "         -8.9160e-02, -1.6226e-01, -1.2009e-01,  2.8984e-03, -1.1946e-02,\n",
       "          1.0695e-02,  1.0951e-02, -6.8540e-03, -5.8990e-02,  1.4957e-03,\n",
       "          3.7632e-02, -4.8047e-03,  2.6570e-02, -2.0634e-02,  9.2701e-02,\n",
       "         -4.4749e-03,  1.1869e-02, -6.5410e-02,  3.1089e-02,  4.4640e-02,\n",
       "          3.5090e-02,  5.0121e-03, -3.8109e-03,  8.5474e-02, -1.6192e-02,\n",
       "         -1.2733e-02,  6.8358e-02,  7.0018e-02,  1.3190e-03, -7.7890e-03,\n",
       "         -3.8449e-02,  4.2678e-02,  5.8884e-03, -5.6265e-03, -2.5311e-03,\n",
       "         -5.1015e-02, -1.4599e-02, -3.8529e-03, -2.5796e-02,  1.1158e-02,\n",
       "         -2.1003e-02,  2.4296e-02,  3.6152e-02,  3.8602e-02, -8.2100e-03,\n",
       "         -4.4885e-03,  4.7199e-02, -7.0822e-03, -1.6494e-03, -4.4668e-04,\n",
       "          4.3128e-03,  4.4557e-02,  1.8312e-05,  9.2303e-03, -1.2933e-02,\n",
       "         -9.9620e-03, -1.6181e-01,  9.4787e-03, -1.0331e-01, -8.4725e-03,\n",
       "          1.7501e-02, -5.2146e-02, -1.3628e-02,  1.1385e-02,  3.0599e-02,\n",
       "          9.9830e-03,  4.8905e-03,  8.4286e-02, -4.7999e-03, -1.7807e-03,\n",
       "          1.6589e-02, -1.3478e-02, -5.6040e-02, -2.8423e-02,  2.2100e-02,\n",
       "         -2.1441e-02,  6.0574e-04,  7.6285e-02, -4.3191e-03, -3.0159e-03,\n",
       "         -1.7373e-02,  3.2202e-02,  4.0782e-03, -3.1029e-03, -1.6530e-02,\n",
       "         -1.5406e-02,  2.0018e-02,  3.6527e-02,  1.2058e-03, -3.0821e-02,\n",
       "         -9.3372e-03,  1.5047e-01, -3.5526e-02, -2.8132e-02,  1.3197e-02,\n",
       "         -3.2121e-03,  1.6685e-01,  6.7044e-02,  1.8048e-02, -4.0207e-03,\n",
       "         -8.9382e-02,  8.7893e-03, -6.1913e-03, -3.2058e-03,  1.5789e-03,\n",
       "          3.3374e-02, -5.7886e-02, -6.9101e-02,  1.4147e-02,  6.4415e-03,\n",
       "         -8.4224e-03, -2.1065e-02,  1.6056e-02, -5.9968e-03, -9.3983e-02,\n",
       "          1.3099e-03,  1.6339e-02, -7.0156e-02, -1.3005e-02, -5.2984e-04,\n",
       "          2.1209e-02,  3.7609e-02,  5.4743e-03, -5.9753e-03,  1.1508e-02,\n",
       "          1.8834e-01, -5.2657e-02,  3.4326e-02,  6.1601e-03, -1.0900e-01,\n",
       "         -8.1380e-03,  1.0799e-02, -1.8622e-02, -1.0856e-02,  3.5160e-02,\n",
       "          8.3712e-02,  8.3947e-04, -1.3281e-02,  3.9982e-02,  1.5131e-02,\n",
       "          1.3475e-01, -1.5409e-02, -3.6767e-02, -2.8510e-03, -3.5666e-02,\n",
       "         -2.0235e-02,  3.4382e-03, -2.5681e-02,  8.8457e-02, -1.1544e-01,\n",
       "         -8.7092e-03,  7.8933e-04, -5.0814e-03, -7.6826e-03,  4.1303e-02,\n",
       "          5.7288e-02, -5.0222e-03, -2.3233e-02,  2.2286e-02,  7.5195e-02,\n",
       "          3.2891e-02,  3.4862e-05,  3.3248e-04,  6.5216e-03,  4.6890e-04,\n",
       "         -1.1759e-02, -9.9492e-03, -3.8593e-02, -5.4627e-04,  1.5680e-02,\n",
       "         -2.9865e-03,  2.2970e-01, -2.3534e-02, -3.4494e-02,  8.6085e-02,\n",
       "          8.8156e-03, -4.8928e-02, -1.7220e-02,  9.3181e-02, -4.6374e-02,\n",
       "          1.5702e-02,  1.2296e-03,  2.0470e-02,  4.7820e-03,  2.3272e-02,\n",
       "         -9.0464e-03,  1.0636e-02, -1.6370e-02, -2.7660e-02, -2.3405e-02,\n",
       "         -6.2233e-02, -9.8322e-02, -2.1286e-04, -3.5026e-02, -2.5897e-02,\n",
       "          3.1636e-03,  2.1735e-03, -8.9258e-03,  2.5653e-02, -6.6120e-03,\n",
       "          5.0911e-02,  4.6584e-04,  5.5242e-02, -3.9454e-03, -3.7460e-02,\n",
       "          4.3955e-02,  3.8782e-02, -4.7266e-02,  2.1880e-02,  1.6170e-02,\n",
       "         -1.7053e-02, -3.4177e-04, -2.4762e-02, -1.7311e-02, -3.8627e-03,\n",
       "          4.8568e-04, -5.4696e-03,  3.2285e-02,  1.7455e-02, -3.3810e-02,\n",
       "          6.7355e-03, -1.9342e-02,  6.3350e-02,  3.0602e-02,  4.2937e-03,\n",
       "         -7.1951e-02, -6.0666e-02, -7.1574e-03, -6.7797e-02,  1.4746e-02,\n",
       "         -6.7134e-04, -1.7938e-03, -5.2137e-02,  3.2551e-02, -2.8778e-02,\n",
       "          6.3301e-02, -3.7252e-02, -3.7887e-03,  3.7534e-02, -1.7754e-03,\n",
       "         -5.5801e-03,  2.3172e-02,  2.5451e-02, -1.3114e-02,  2.2176e-02,\n",
       "          1.2236e-02, -3.1536e-02,  5.5906e-02, -1.5943e-02,  1.8934e-02,\n",
       "          6.6680e-02,  4.2731e-02, -1.0244e-02, -6.3673e-02, -8.0268e-03,\n",
       "         -1.9639e-02, -2.6196e-02, -5.5579e-02,  1.4996e-02, -1.7026e-02,\n",
       "         -8.1049e-03, -1.2869e-02, -6.4058e-02,  4.3555e-02,  3.8104e-02,\n",
       "         -3.6477e-02, -2.2496e-03, -3.7593e-02, -3.0012e-02, -2.5635e-03,\n",
       "          6.0492e-03,  5.8425e-03,  8.1731e-04, -9.6590e-03,  6.1924e-03,\n",
       "          4.5440e-02, -5.0556e-02, -1.7201e-03,  4.9931e-02, -1.9017e-02,\n",
       "          6.7877e-02,  3.6585e-03, -9.6124e-03, -1.1167e-02, -4.6454e-03,\n",
       "         -2.1939e-03,  7.8792e-03, -1.3092e-02,  6.7111e-03,  2.0730e-02,\n",
       "         -4.1502e-03,  2.4715e-03,  7.1863e-02, -4.7046e-02, -8.4171e-02,\n",
       "          1.8620e-02, -3.7066e-02, -1.0147e-02,  2.0797e-02,  5.3377e-03,\n",
       "          4.7494e-02, -1.9327e-02,  6.2184e-02, -2.2161e-03,  1.8622e-03,\n",
       "          2.2578e-02,  7.0720e-03,  3.0472e-02, -1.2264e-02,  2.6010e-02,\n",
       "         -1.6583e-02, -1.8087e-02, -5.6900e-02, -1.2954e-02, -3.5158e-02,\n",
       "         -3.1102e-02,  2.9347e-02,  5.7606e-04, -6.4664e-02, -5.5182e-04,\n",
       "         -1.6144e-02, -5.0492e-03, -7.7735e-02,  8.0239e-02, -2.2971e-02,\n",
       "         -2.8947e-03, -6.8058e-03, -3.2765e-02,  9.3945e-03,  7.8453e-04,\n",
       "          5.2058e-03, -2.1047e-03, -1.1183e-02,  1.0703e-01, -3.7464e-02,\n",
       "         -1.5722e-02, -1.6631e-02, -2.5628e-02, -9.1034e-03,  3.4196e-02,\n",
       "          3.7391e-02,  3.8809e-02,  5.3794e-03, -9.3199e-03,  5.3296e-03,\n",
       "         -3.0319e-03, -6.0721e-02,  1.2938e-03,  8.6888e-02, -5.2102e-03,\n",
       "          3.0228e-03,  8.9189e-03, -1.0123e-02, -5.1987e-03, -3.2149e-03,\n",
       "          5.3549e-02, -5.4721e-02,  4.4002e-02, -1.7943e-02, -5.7026e-03,\n",
       "          1.2776e-02, -1.0001e-01, -1.7215e-02,  1.4030e-01, -4.7947e-02,\n",
       "         -2.1180e-02, -5.5508e-02,  1.3154e-02, -2.8210e-02,  8.7209e-02,\n",
       "          3.7383e-02,  3.6180e-02,  6.2663e-03, -4.6577e-02,  4.6163e-04,\n",
       "         -1.3094e-02,  5.0390e-03,  4.5619e-03, -3.7511e-02,  9.7437e-03,\n",
       "         -1.6656e-02,  7.6989e-02, -1.9553e-02, -1.3297e-03, -5.0830e-02,\n",
       "          2.7304e-02, -1.3508e-02,  4.6533e-02,  1.3316e-01,  1.4240e-02,\n",
       "         -8.5581e-03, -3.9644e-02, -4.3912e-03, -4.2535e-02,  1.4533e-02,\n",
       "         -5.1068e-02, -6.8600e-02,  6.4038e-02, -9.1004e-02, -2.0204e-01,\n",
       "         -1.9283e-02,  7.8027e-02, -4.8955e-03,  2.1483e-02,  2.8637e-02,\n",
       "          9.2347e-03, -2.9003e-02,  4.5657e-03, -1.3849e-02,  9.5288e-03,\n",
       "         -1.7147e-02,  2.3684e-02, -1.8789e-03, -1.7577e-02, -6.8298e-03,\n",
       "          9.2170e-03,  6.6838e-02, -1.2877e-02,  6.2683e-02,  8.0049e-03,\n",
       "         -6.5889e-02,  3.2040e-02,  4.1130e-02, -4.9385e-03,  4.1950e-02,\n",
       "         -6.8071e-03,  2.3684e-02,  2.0699e-03,  1.1112e-03,  1.2267e-02,\n",
       "         -1.0227e-01, -2.8541e-03]], device='cuda:0', grad_fn=<DivBackward0>)"
      ]
     },
     "execution_count": 14,
     "metadata": {},
     "output_type": "execute_result"
    }
   ],
   "source": [
    "outputs['img_embeds']"
   ]
  },
  {
   "cell_type": "code",
   "execution_count": 7,
   "metadata": {},
   "outputs": [
    {
     "data": {
      "text/plain": [
       "torch.Size([1, 512])"
      ]
     },
     "execution_count": 7,
     "metadata": {},
     "output_type": "execute_result"
    }
   ],
   "source": [
    "outputs['img_embeds'].shape"
   ]
  },
  {
   "cell_type": "code",
   "execution_count": 8,
   "metadata": {},
   "outputs": [
    {
     "data": {
      "text/plain": [
       "torch.Size([2, 512])"
      ]
     },
     "execution_count": 8,
     "metadata": {},
     "output_type": "execute_result"
    }
   ],
   "source": [
    "outputs['text_embeds'].shape"
   ]
  },
  {
   "cell_type": "code",
   "execution_count": 10,
   "metadata": {},
   "outputs": [
    {
     "data": {
      "text/plain": [
       "dict_keys(['input_ids', 'token_type_ids', 'attention_mask', 'pixel_values'])"
      ]
     },
     "execution_count": 10,
     "metadata": {},
     "output_type": "execute_result"
    }
   ],
   "source": [
    "inputs.keys()"
   ]
  },
  {
   "cell_type": "code",
   "execution_count": 12,
   "metadata": {},
   "outputs": [
    {
     "data": {
      "text/plain": [
       "tensor([-4.9336e-03,  4.2948e-03, -3.3312e-02, -5.3021e-02,  3.3264e-02,\n",
       "         5.3176e-02, -5.1343e-03, -1.8925e-03,  1.9265e-02, -1.3596e-01,\n",
       "         2.1900e-02,  2.2517e-02, -6.2676e-02, -4.0227e-02,  1.1003e-01,\n",
       "        -2.3462e-03, -3.5921e-02, -3.1247e-03,  3.8041e-02, -1.5207e-02,\n",
       "        -2.5204e-02,  2.8590e-02,  1.5878e-02,  4.2869e-02, -1.1833e-02,\n",
       "         5.0067e-02, -1.3757e-02,  1.2114e-01,  1.4732e-02,  2.0721e-02,\n",
       "        -1.1479e-02, -3.8820e-02, -2.1348e-03,  1.5757e-03, -1.1162e-01,\n",
       "         2.6719e-02,  3.9996e-03, -2.4945e-03,  1.7377e-02, -3.7300e-03,\n",
       "        -1.3222e-02, -2.8267e-02,  1.8467e-02,  1.3526e-02,  1.2538e-02,\n",
       "        -4.5990e-03,  2.4862e-02,  1.0123e-02,  4.8094e-03,  3.4806e-03,\n",
       "         3.9521e-02,  3.5040e-03, -1.4774e-02, -1.6369e-02, -1.2105e-01,\n",
       "        -2.6699e-02, -3.2907e-02,  3.5841e-02,  8.0360e-02,  9.2142e-02,\n",
       "         4.9211e-02,  1.3043e-02,  4.9522e-02,  3.6687e-03,  1.8584e-02,\n",
       "        -4.2308e-03,  4.7011e-02, -7.6194e-03, -8.4217e-03, -6.8859e-03,\n",
       "         1.9384e-02,  7.0196e-02,  3.5320e-03,  2.9344e-02, -4.4101e-02,\n",
       "         2.1892e-02,  2.4208e-03, -1.4585e-02,  1.2024e-01,  3.0041e-02,\n",
       "        -8.9160e-02, -1.6226e-01, -1.2009e-01,  2.8984e-03, -1.1946e-02,\n",
       "         1.0695e-02,  1.0951e-02, -6.8540e-03, -5.8990e-02,  1.4957e-03,\n",
       "         3.7632e-02, -4.8047e-03,  2.6570e-02, -2.0634e-02,  9.2701e-02,\n",
       "        -4.4749e-03,  1.1869e-02, -6.5410e-02,  3.1089e-02,  4.4640e-02,\n",
       "         3.5090e-02,  5.0121e-03, -3.8109e-03,  8.5474e-02, -1.6192e-02,\n",
       "        -1.2733e-02,  6.8358e-02,  7.0018e-02,  1.3190e-03, -7.7890e-03,\n",
       "        -3.8449e-02,  4.2678e-02,  5.8884e-03, -5.6265e-03, -2.5311e-03,\n",
       "        -5.1015e-02, -1.4599e-02, -3.8529e-03, -2.5796e-02,  1.1158e-02,\n",
       "        -2.1003e-02,  2.4296e-02,  3.6152e-02,  3.8602e-02, -8.2100e-03,\n",
       "        -4.4885e-03,  4.7199e-02, -7.0822e-03, -1.6494e-03, -4.4668e-04,\n",
       "         4.3128e-03,  4.4557e-02,  1.8312e-05,  9.2303e-03, -1.2933e-02,\n",
       "        -9.9620e-03, -1.6181e-01,  9.4787e-03, -1.0331e-01, -8.4725e-03,\n",
       "         1.7501e-02, -5.2146e-02, -1.3628e-02,  1.1385e-02,  3.0599e-02,\n",
       "         9.9830e-03,  4.8905e-03,  8.4286e-02, -4.7999e-03, -1.7807e-03,\n",
       "         1.6589e-02, -1.3478e-02, -5.6040e-02, -2.8423e-02,  2.2100e-02,\n",
       "        -2.1441e-02,  6.0574e-04,  7.6285e-02, -4.3191e-03, -3.0159e-03,\n",
       "        -1.7373e-02,  3.2202e-02,  4.0782e-03, -3.1029e-03, -1.6530e-02,\n",
       "        -1.5406e-02,  2.0018e-02,  3.6527e-02,  1.2058e-03, -3.0821e-02,\n",
       "        -9.3372e-03,  1.5047e-01, -3.5526e-02, -2.8132e-02,  1.3197e-02,\n",
       "        -3.2121e-03,  1.6685e-01,  6.7044e-02,  1.8048e-02, -4.0207e-03,\n",
       "        -8.9382e-02,  8.7893e-03, -6.1913e-03, -3.2058e-03,  1.5789e-03,\n",
       "         3.3374e-02, -5.7886e-02, -6.9101e-02,  1.4147e-02,  6.4415e-03,\n",
       "        -8.4224e-03, -2.1065e-02,  1.6056e-02, -5.9968e-03, -9.3983e-02,\n",
       "         1.3099e-03,  1.6339e-02, -7.0156e-02, -1.3005e-02, -5.2984e-04,\n",
       "         2.1209e-02,  3.7609e-02,  5.4743e-03, -5.9753e-03,  1.1508e-02,\n",
       "         1.8834e-01, -5.2657e-02,  3.4326e-02,  6.1601e-03, -1.0900e-01,\n",
       "        -8.1380e-03,  1.0799e-02, -1.8622e-02, -1.0856e-02,  3.5160e-02,\n",
       "         8.3712e-02,  8.3947e-04, -1.3281e-02,  3.9982e-02,  1.5131e-02,\n",
       "         1.3475e-01, -1.5409e-02, -3.6767e-02, -2.8510e-03, -3.5666e-02,\n",
       "        -2.0235e-02,  3.4382e-03, -2.5681e-02,  8.8457e-02, -1.1544e-01,\n",
       "        -8.7092e-03,  7.8933e-04, -5.0814e-03, -7.6826e-03,  4.1303e-02,\n",
       "         5.7288e-02, -5.0222e-03, -2.3233e-02,  2.2286e-02,  7.5195e-02,\n",
       "         3.2891e-02,  3.4862e-05,  3.3248e-04,  6.5216e-03,  4.6890e-04,\n",
       "        -1.1759e-02, -9.9492e-03, -3.8593e-02, -5.4627e-04,  1.5680e-02,\n",
       "        -2.9865e-03,  2.2970e-01, -2.3534e-02, -3.4494e-02,  8.6085e-02,\n",
       "         8.8156e-03, -4.8928e-02, -1.7220e-02,  9.3181e-02, -4.6374e-02,\n",
       "         1.5702e-02,  1.2296e-03,  2.0470e-02,  4.7820e-03,  2.3272e-02,\n",
       "        -9.0464e-03,  1.0636e-02, -1.6370e-02, -2.7660e-02, -2.3405e-02,\n",
       "        -6.2233e-02, -9.8322e-02, -2.1286e-04, -3.5026e-02, -2.5897e-02,\n",
       "         3.1636e-03,  2.1735e-03, -8.9258e-03,  2.5653e-02, -6.6120e-03,\n",
       "         5.0911e-02,  4.6584e-04,  5.5242e-02, -3.9454e-03, -3.7460e-02,\n",
       "         4.3955e-02,  3.8782e-02, -4.7266e-02,  2.1880e-02,  1.6170e-02,\n",
       "        -1.7053e-02, -3.4177e-04, -2.4762e-02, -1.7311e-02, -3.8627e-03,\n",
       "         4.8568e-04, -5.4696e-03,  3.2285e-02,  1.7455e-02, -3.3810e-02,\n",
       "         6.7355e-03, -1.9342e-02,  6.3350e-02,  3.0602e-02,  4.2937e-03,\n",
       "        -7.1951e-02, -6.0666e-02, -7.1574e-03, -6.7797e-02,  1.4746e-02,\n",
       "        -6.7134e-04, -1.7938e-03, -5.2137e-02,  3.2551e-02, -2.8778e-02,\n",
       "         6.3301e-02, -3.7252e-02, -3.7887e-03,  3.7534e-02, -1.7754e-03,\n",
       "        -5.5801e-03,  2.3172e-02,  2.5451e-02, -1.3114e-02,  2.2176e-02,\n",
       "         1.2236e-02, -3.1536e-02,  5.5906e-02, -1.5943e-02,  1.8934e-02,\n",
       "         6.6680e-02,  4.2731e-02, -1.0244e-02, -6.3673e-02, -8.0268e-03,\n",
       "        -1.9639e-02, -2.6196e-02, -5.5579e-02,  1.4996e-02, -1.7026e-02,\n",
       "        -8.1049e-03, -1.2869e-02, -6.4058e-02,  4.3555e-02,  3.8104e-02,\n",
       "        -3.6477e-02, -2.2496e-03, -3.7593e-02, -3.0012e-02, -2.5635e-03,\n",
       "         6.0492e-03,  5.8425e-03,  8.1731e-04, -9.6590e-03,  6.1924e-03,\n",
       "         4.5440e-02, -5.0556e-02, -1.7201e-03,  4.9931e-02, -1.9017e-02,\n",
       "         6.7877e-02,  3.6585e-03, -9.6124e-03, -1.1167e-02, -4.6454e-03,\n",
       "        -2.1939e-03,  7.8792e-03, -1.3092e-02,  6.7111e-03,  2.0730e-02,\n",
       "        -4.1502e-03,  2.4715e-03,  7.1863e-02, -4.7046e-02, -8.4171e-02,\n",
       "         1.8620e-02, -3.7066e-02, -1.0147e-02,  2.0797e-02,  5.3377e-03,\n",
       "         4.7494e-02, -1.9327e-02,  6.2184e-02, -2.2161e-03,  1.8622e-03,\n",
       "         2.2578e-02,  7.0720e-03,  3.0472e-02, -1.2264e-02,  2.6010e-02,\n",
       "        -1.6583e-02, -1.8087e-02, -5.6900e-02, -1.2954e-02, -3.5158e-02,\n",
       "        -3.1102e-02,  2.9347e-02,  5.7606e-04, -6.4664e-02, -5.5182e-04,\n",
       "        -1.6144e-02, -5.0492e-03, -7.7735e-02,  8.0239e-02, -2.2971e-02,\n",
       "        -2.8947e-03, -6.8058e-03, -3.2765e-02,  9.3945e-03,  7.8453e-04,\n",
       "         5.2058e-03, -2.1047e-03, -1.1183e-02,  1.0703e-01, -3.7464e-02,\n",
       "        -1.5722e-02, -1.6631e-02, -2.5628e-02, -9.1034e-03,  3.4196e-02,\n",
       "         3.7391e-02,  3.8809e-02,  5.3794e-03, -9.3199e-03,  5.3296e-03,\n",
       "        -3.0319e-03, -6.0721e-02,  1.2938e-03,  8.6888e-02, -5.2102e-03,\n",
       "         3.0228e-03,  8.9189e-03, -1.0123e-02, -5.1987e-03, -3.2149e-03,\n",
       "         5.3549e-02, -5.4721e-02,  4.4002e-02, -1.7943e-02, -5.7026e-03,\n",
       "         1.2776e-02, -1.0001e-01, -1.7215e-02,  1.4030e-01, -4.7947e-02,\n",
       "        -2.1180e-02, -5.5508e-02,  1.3154e-02, -2.8210e-02,  8.7209e-02,\n",
       "         3.7383e-02,  3.6180e-02,  6.2663e-03, -4.6577e-02,  4.6163e-04,\n",
       "        -1.3094e-02,  5.0390e-03,  4.5619e-03, -3.7511e-02,  9.7437e-03,\n",
       "        -1.6656e-02,  7.6989e-02, -1.9553e-02, -1.3297e-03, -5.0830e-02,\n",
       "         2.7304e-02, -1.3508e-02,  4.6533e-02,  1.3316e-01,  1.4240e-02,\n",
       "        -8.5581e-03, -3.9644e-02, -4.3912e-03, -4.2535e-02,  1.4533e-02,\n",
       "        -5.1068e-02, -6.8600e-02,  6.4038e-02, -9.1004e-02, -2.0204e-01,\n",
       "        -1.9283e-02,  7.8027e-02, -4.8955e-03,  2.1483e-02,  2.8637e-02,\n",
       "         9.2347e-03, -2.9003e-02,  4.5657e-03, -1.3849e-02,  9.5288e-03,\n",
       "        -1.7147e-02,  2.3684e-02, -1.8789e-03, -1.7577e-02, -6.8298e-03,\n",
       "         9.2170e-03,  6.6838e-02, -1.2877e-02,  6.2683e-02,  8.0049e-03,\n",
       "        -6.5889e-02,  3.2040e-02,  4.1130e-02, -4.9385e-03,  4.1950e-02,\n",
       "        -6.8071e-03,  2.3684e-02,  2.0699e-03,  1.1112e-03,  1.2267e-02,\n",
       "        -1.0227e-01, -2.8541e-03], device='cuda:0', grad_fn=<SelectBackward0>)"
      ]
     },
     "execution_count": 12,
     "metadata": {},
     "output_type": "execute_result"
    }
   ],
   "source": [
    "outputs['img_embeds'][0]"
   ]
  },
  {
   "cell_type": "code",
   "execution_count": null,
   "metadata": {},
   "outputs": [],
   "source": []
  }
 ],
 "metadata": {
  "kernelspec": {
   "display_name": "Python 3",
   "language": "python",
   "name": "python3"
  },
  "language_info": {
   "codemirror_mode": {
    "name": "ipython",
    "version": 3
   },
   "file_extension": ".py",
   "mimetype": "text/x-python",
   "name": "python",
   "nbconvert_exporter": "python",
   "pygments_lexer": "ipython3",
   "version": "3.9.13"
  }
 },
 "nbformat": 4,
 "nbformat_minor": 2
}
